{
 "cells": [
  {
   "cell_type": "code",
   "execution_count": 19,
   "id": "2e1d715f-7407-4118-8db5-3c7bc5e8951f",
   "metadata": {},
   "outputs": [],
   "source": [
    "# Exercise 2: Create markdown cell with title of notebook"
   ]
  },
  {
   "cell_type": "markdown",
   "id": "1a394391-92b0-4c86-8d5e-a6d560f3bea6",
   "metadata": {},
   "source": [
    "# Data Science Tools and Ecosystem"
   ]
  },
  {
   "cell_type": "code",
   "execution_count": 23,
   "id": "595c59e4-7931-4475-9087-37f091bc626a",
   "metadata": {},
   "outputs": [],
   "source": [
    "# Exercise 3 - Create markdown cell for an introduction"
   ]
  },
  {
   "cell_type": "markdown",
   "id": "c0f5538e-405e-4d27-a8b1-2066a263fde6",
   "metadata": {},
   "source": [
    "## In this notebook, Data Science Tools and Ecosystem are summarized."
   ]
  },
  {
   "cell_type": "markdown",
   "id": "500bd2bd-e10c-47d0-950b-2a48db025c94",
   "metadata": {},
   "source": [
    "## **Ojectives**\n",
    "* List some of the popular languages that Data Scientist use\n",
    "* List some of the commonly used liraries by Data Scieentists\n",
    "* List som of the Data Science Tools"
   ]
  },
  {
   "cell_type": "code",
   "execution_count": 49,
   "id": "3819d8de-3183-4649-b15e-dd9b827c9c98",
   "metadata": {},
   "outputs": [],
   "source": [
    "# Exercise 4 - Create a markdown cell to list data science languages"
   ]
  },
  {
   "cell_type": "markdown",
   "id": "72d3d74f-4f0f-4e72-be74-488667aec186",
   "metadata": {},
   "source": [
    "# Some of the popular languages that Data Scientists use are"
   ]
  },
  {
   "cell_type": "markdown",
   "id": "e691cb48-7e2b-4afa-9291-cd22e8768285",
   "metadata": {},
   "source": [
    "1. Python\n",
    "2. Java\n",
    "3. R\n",
    "4. C++"
   ]
  },
  {
   "cell_type": "code",
   "execution_count": null,
   "id": "0e1b05f4-d835-456d-be6b-292cd1e38a7c",
   "metadata": {},
   "outputs": [],
   "source": [
    "# Exercise 5 - Create a markdown cell to list data science libraries"
   ]
  },
  {
   "cell_type": "markdown",
   "id": "2258f038-998f-4c2b-95fc-8a5a19bcdcdb",
   "metadata": {},
   "source": [
    "# Some of the commonly used libraries by Data Scientists include:"
   ]
  },
  {
   "cell_type": "markdown",
   "id": "2a2512e8-d03a-4053-9cb6-363cf5155759",
   "metadata": {},
   "source": [
    "1. Pandas\n",
    "2. NumPy\n",
    "3. Matplotli\n",
    "4. ggplot"
   ]
  },
  {
   "cell_type": "code",
   "execution_count": null,
   "id": "783933a8-7f02-47a7-aa30-9f6e5d2cf1bc",
   "metadata": {},
   "outputs": [],
   "source": [
    "# Exercise 6 - Create a markdown cell with a table of Data Science tools"
   ]
  },
  {
   "cell_type": "markdown",
   "id": "a7570387-33b5-4ea3-be12-c7312ea33858",
   "metadata": {},
   "source": [
    "|Data Science Tools|\n",
    "|------------------|\n",
    "|Jupyter Notebook|\n",
    "|Watson Studio|\n",
    "|R Studio|"
   ]
  },
  {
   "cell_type": "code",
   "execution_count": 27,
   "id": "4de75b5a-13fd-44f7-abdd-a9bf1aa58d5c",
   "metadata": {},
   "outputs": [],
   "source": [
    "# Exercise 7 - Create a markdown cell introducing arithmetic expression examples"
   ]
  },
  {
   "cell_type": "markdown",
   "id": "0023f813-25ea-497b-b946-a538d3fedeb8",
   "metadata": {},
   "source": [
    "### Below are a few examples of evaluating arithmetic expressions in python"
   ]
  },
  {
   "cell_type": "code",
   "execution_count": 30,
   "id": "56e219fb-ddf1-428a-99a6-b54dadd33951",
   "metadata": {},
   "outputs": [],
   "source": [
    "# Exercise 8 - Create a code cell to multiply and add numbers"
   ]
  },
  {
   "cell_type": "code",
   "execution_count": null,
   "id": "b803fd73-cdd8-4554-8c31-2559a4ff8263",
   "metadata": {},
   "outputs": [],
   "source": [
    "# This is a simple arithmetic expression to multiply then add integers"
   ]
  },
  {
   "cell_type": "code",
   "execution_count": 32,
   "id": "190848e4-9ed2-46cf-b90d-6569ca8d87c3",
   "metadata": {},
   "outputs": [
    {
     "data": {
      "text/plain": [
       "17"
      ]
     },
     "execution_count": 32,
     "metadata": {},
     "output_type": "execute_result"
    }
   ],
   "source": [
    "(3*4)+5"
   ]
  },
  {
   "cell_type": "code",
   "execution_count": 34,
   "id": "5cc44f03-966c-4796-bacf-af153588af2e",
   "metadata": {},
   "outputs": [],
   "source": [
    "# Exercise 9 - Create a code cell to convert minutes to hours"
   ]
  },
  {
   "cell_type": "code",
   "execution_count": 42,
   "id": "96b30a3c-9f1f-4dfc-9223-28508b7873dd",
   "metadata": {},
   "outputs": [],
   "source": [
    "# This will convert 200 minutes to hours by diving by 60"
   ]
  },
  {
   "cell_type": "code",
   "execution_count": 40,
   "id": "5dd03bd2-19a2-4171-87bb-9ba00ce743bb",
   "metadata": {},
   "outputs": [
    {
     "data": {
      "text/plain": [
       "3"
      ]
     },
     "execution_count": 40,
     "metadata": {},
     "output_type": "execute_result"
    }
   ],
   "source": [
    "200//60"
   ]
  },
  {
   "cell_type": "code",
   "execution_count": null,
   "id": "c6766832-f654-492d-a027-b9fe1d01b93d",
   "metadata": {},
   "outputs": [],
   "source": [
    "# Exercise 11 - Insert a markdown cell to list Objectives"
   ]
  },
  {
   "cell_type": "markdown",
   "id": "d53fc082-a86d-473b-85e2-2a0b1fb16013",
   "metadata": {},
   "source": [
    "## Author\n",
    " Raphael Lawal"
   ]
  }
 ],
 "metadata": {
  "kernelspec": {
   "display_name": "Python 3 (ipykernel)",
   "language": "python",
   "name": "python3"
  },
  "language_info": {
   "codemirror_mode": {
    "name": "ipython",
    "version": 3
   },
   "file_extension": ".py",
   "mimetype": "text/x-python",
   "name": "python",
   "nbconvert_exporter": "python",
   "pygments_lexer": "ipython3",
   "version": "3.12.4"
  }
 },
 "nbformat": 4,
 "nbformat_minor": 5
}
